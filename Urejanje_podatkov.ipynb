{
 "cells": [
  {
   "cell_type": "code",
   "execution_count": 73,
   "id": "248f3195-0ccb-45ff-b1c2-10f4c0d8aefa",
   "metadata": {},
   "outputs": [],
   "source": [
    "import numpy as np\n",
    "import pandas as pd"
   ]
  },
  {
   "cell_type": "code",
   "execution_count": 74,
   "id": "e3693d46-df7b-4602-9a6d-f9d7643b86aa",
   "metadata": {},
   "outputs": [],
   "source": [
    "data = pd.read_csv('total_cases_ecdc.csv')"
   ]
  },
  {
   "cell_type": "code",
   "execution_count": 75,
   "id": "23370ce9-550a-4f9e-8f0c-b8490cace121",
   "metadata": {},
   "outputs": [
    {
     "data": {
      "text/plain": [
       "0      2019-12-31\n",
       "1      2020-01-01\n",
       "2      2020-01-02\n",
       "3      2020-01-03\n",
       "4      2020-01-04\n",
       "          ...    \n",
       "330    2020-11-25\n",
       "331    2020-11-26\n",
       "332    2020-11-27\n",
       "333    2020-11-28\n",
       "334    2020-11-29\n",
       "Name: date, Length: 335, dtype: object"
      ]
     },
     "execution_count": 75,
     "metadata": {},
     "output_type": "execute_result"
    }
   ],
   "source": [
    "data['date']"
   ]
  },
  {
   "cell_type": "code",
   "execution_count": 76,
   "id": "f0b2854f-8f08-44c1-9b69-c85fb11e167e",
   "metadata": {},
   "outputs": [],
   "source": [
    "df = pd.DataFrame()\n",
    "df['Datum'] = data['date'][0:142]"
   ]
  },
  {
   "cell_type": "code",
   "execution_count": 77,
   "id": "b4e2a793-43d7-4bc3-a8c9-b13146b12ccc",
   "metadata": {},
   "outputs": [
    {
     "name": "stdout",
     "output_type": "stream",
     "text": [
      "          Datum\n",
      "0    2019-12-31\n",
      "1    2020-01-01\n",
      "2    2020-01-02\n",
      "3    2020-01-03\n",
      "4    2020-01-04\n",
      "..          ...\n",
      "137  2020-05-16\n",
      "138  2020-05-17\n",
      "139  2020-05-18\n",
      "140  2020-05-19\n",
      "141  2020-05-20\n",
      "\n",
      "[142 rows x 1 columns]\n"
     ]
    }
   ],
   "source": [
    "print(df)"
   ]
  },
  {
   "cell_type": "code",
   "execution_count": 78,
   "id": "0d31b793-0a1e-4c3d-ae27-0c8e8161090c",
   "metadata": {},
   "outputs": [],
   "source": [
    "df['Svet'] = data['World'][0:142].fillna(0).astype(int)\n",
    "df['Slovenija'] = data['Slovenia'][0:142].fillna(0).astype(int)\n",
    "df['Australija'] = data['Australia'][0:142].fillna(0).astype(int)\n",
    "df['Nova Zelandija'] = data['New Zealand'][0:142].fillna(0).astype(int)"
   ]
  },
  {
   "cell_type": "code",
   "execution_count": 79,
   "id": "212d9193-220d-4b28-8416-2272dcc1e522",
   "metadata": {},
   "outputs": [
    {
     "name": "stdout",
     "output_type": "stream",
     "text": [
      "          Datum     Svet  Slovenija  Australija  Nova Zelandija\n",
      "0    2019-12-31       27          0           0               0\n",
      "1    2020-01-01       27          0           0               0\n",
      "2    2020-01-02       27          0           0               0\n",
      "3    2020-01-03       44          0           0               0\n",
      "4    2020-01-04       44          0           0               0\n",
      "..          ...      ...        ...         ...             ...\n",
      "137  2020-05-16  4512768       1465        7019            1148\n",
      "138  2020-05-17  4605735       1466        7036            1149\n",
      "139  2020-05-18  4684784       1466        7045            1149\n",
      "140  2020-05-19  4772741       1467        7060            1153\n",
      "141  2020-05-20  4869123       1468        7068            1153\n",
      "\n",
      "[142 rows x 5 columns]\n"
     ]
    }
   ],
   "source": [
    "print(df)"
   ]
  },
  {
   "cell_type": "code",
   "execution_count": 80,
   "id": "3bf22642-3ba5-4b88-a105-c958319c9e12",
   "metadata": {},
   "outputs": [],
   "source": [
    "df.to_csv('sorted_data.csv', index=False)"
   ]
  },
  {
   "cell_type": "code",
   "execution_count": null,
   "id": "d9877d39-24c4-4809-828e-1fef2025bafa",
   "metadata": {},
   "outputs": [],
   "source": []
  }
 ],
 "metadata": {
  "kernelspec": {
   "display_name": "Python 3 (ipykernel)",
   "language": "python",
   "name": "python3"
  },
  "language_info": {
   "codemirror_mode": {
    "name": "ipython",
    "version": 3
   },
   "file_extension": ".py",
   "mimetype": "text/x-python",
   "name": "python",
   "nbconvert_exporter": "python",
   "pygments_lexer": "ipython3",
   "version": "3.12.7"
  }
 },
 "nbformat": 4,
 "nbformat_minor": 5
}
